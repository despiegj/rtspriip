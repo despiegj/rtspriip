{
 "cells": [
  {
   "cell_type": "code",
   "execution_count": 6,
   "metadata": {},
   "outputs": [],
   "source": [
    "import pandas as pd\n",
    "import numpy as np\n",
    "from scipy.stats import norm\n",
    "import plotly"
   ]
  },
  {
   "cell_type": "code",
   "execution_count": 74,
   "metadata": {
    "code_folding": []
   },
   "outputs": [],
   "source": [
    "def priip_rts1(df,rhp_range=np.arange(1,5),horizon=5,calcdate='20210331'):\n",
    "    \"\"\"\n",
    "    df = DataFrame() with date and close\n",
    "    rhp_range = range of rhps\n",
    "    horizon = the sampling period in years\n",
    "    calcdate = the calculation date\n",
    "    \"\"\"\n",
    "    \n",
    "    end_date = pd.to_datetime(calcdate)\n",
    "    start_date = pd.to_datetime(calcdate)-pd.Timedelta(horizon*52,unit='W')\n",
    "    idx = (df.index>=start_date)&(df.index<=end_date)\n",
    "    df_rts = df.loc[idx,:].copy()\n",
    "    df_ret = df_rts.pct_change().dropna(how='any')\n",
    "    \n",
    "    M0 = len(df_ret)\n",
    "    M1 = np.mean(df_ret.values)\n",
    "    M2 = np.sum((df_ret.values-M1)**2)/M0\n",
    "    M3 = np.sum((df_ret.values-M1)**3)/M0\n",
    "    M4 =  np.sum((df_ret.values-M1)**4)/M0\n",
    "    \n",
    "    mu = M1\n",
    "    vol = np.sqrt(M2)\n",
    "    skew = M3/(vol**3)\n",
    "    kurt = M4/(vol**4)-3\n",
    "    priip={}\n",
    "    rhp_result = []\n",
    "    mod_result  = []\n",
    "    fav_result  = []\n",
    "    unfav_result  = []\n",
    "    stress_result  = []\n",
    "    \n",
    "    for rhp in rhp_range:\n",
    "        N = rhp*256 #assuming 256 business days in a year\n",
    "        stress_bucket =[63 if rhp>1 else 21][0]\n",
    "        z = [99 if rhp<=1 else 90][0]\n",
    "        za = [norm.ppf(0.01) if rhp<=1 else norm.ppf(0.05)][0]\n",
    "        var =vol *np.sqrt(N)*(-1.96+0.474*skew/np.sqrt(N)-0.0687*kurt/N+0.146*(skew**2)/N)-0.5*N*(vol**2)\n",
    "        VEV = (np.sqrt(3.842-2*var)-1.96)/np.sqrt(rhp)\n",
    "        stressed_vol = np.percentile(df_ret.rolling(window=stress_bucket).apply(lambda x : np.std(x)).dropna(how='any').values,z)\n",
    "        unfav = np.exp(M1*N+vol*np.sqrt(N)*(-1.28+0.107*skew/np.sqrt(N)+0.0724*kurt/N-0.0611*(skew**2)/N)-0.5*(vol**2)*N)\n",
    "        fav = np.exp(M1*N+vol*np.sqrt(N)*(1.28+0.107*skew/np.sqrt(N)-0.0724*kurt/N+0.0611*(skew**2)/N)-0.5*(vol**2)*N)\n",
    "        mod = np.exp(M1*N-vol*skew/6-0.5*(vol**2)*N)\n",
    "        stress = za + ((za**2-1)/6)*skew/np.sqrt(N)+ ((za**3-3*za)/24)*kurt/N-((2*za**3-5*za)/36)*(skew**2)/N\n",
    "        stress = np.exp(stressed_vol*np.sqrt(N)*stress-0.5*(stressed_vol**2)*N)\n",
    "        rhp_result.append(rhp)\n",
    "        fav_result.append(fav-1)\n",
    "        mod_result.append(mod-1)\n",
    "        unfav_result.append(unfav-1)\n",
    "        stress_result.append(stress-1) \n",
    "    \n",
    "    return {'rhp':rhp_result,\n",
    "            'mod':mod_result,\n",
    "            'fav':fav_result,\n",
    "            'stress':stress_result,\n",
    "            'unfav':unfav_result\n",
    "           }\n",
    "    \n",
    "    "
   ]
  },
  {
   "cell_type": "code",
   "execution_count": 87,
   "metadata": {},
   "outputs": [],
   "source": [
    "def priip_rts2(df,rhp_range=np.arange(1,5),calcdate='20210331'):\n",
    "    \n",
    "   \n",
    "    rhp_result = []\n",
    "    mod_result  = []\n",
    "    fav_result  = []\n",
    "    unfav_result  = []\n",
    "    stress_result  = []\n",
    "    \n",
    "    for rhp in rhp_range:\n",
    "        horizon = np.max([10,rhp+5])\n",
    "       \n",
    "        start_date = pd.to_datetime(calcdate)-pd.Timedelta(int(horizon*52),unit='W')\n",
    "        df_rts = df.loc[(df.index>=start_date)&(df.index<=calcdate),:].copy()\n",
    "        sample_weeks=(df_rts.index[-1]-df_rts.index[0]).days/7\n",
    "        if sample_weeks <int(horizon*52):\n",
    "            pass\n",
    "        \n",
    "        # create Monthly observations\n",
    "        dx = pd.DataFrame({'x':1},index=pd.bdate_range(start_date,calcdate,freq='BM'),)\n",
    "        df_rts = pd.concat([dx,df_rts],axis=1)\n",
    "        df_rts.dropna(how='any',inplace=True)\n",
    "        df_rts = pd.concat([dx,df_rts['close']],axis=1)\n",
    "        df_rts['close'].fillna(method='ffill',inplace=True)\n",
    "        df_rts.drop('x',axis='columns',inplace=True)\n",
    "        \n",
    "        #create rolling overlapping window equal to RHP returns\n",
    "        periods = rhp*12\n",
    "        df_ret_7a = df_rts.copy()\n",
    "        df_ret_7a['end_date']=df_ret_7a.index\n",
    "        df_ret_7a['start_date']=df_ret_7a['end_date'].shift(periods=periods)\n",
    "        df_ret_7a['ret']= df_ret_7a['close'].rolling(window=periods,min_periods=periods).apply(lambda x : x[-1]/x[0]-1)\n",
    "        df_ret_7a['start_price']= df_ret_7a['close'].rolling(window=periods,min_periods=periods).apply(lambda x :x[0])\n",
    "        df_ret_7a=df_ret_7a.rename(columns={'close':'end_price'})\n",
    "        df_ret_7a.dropna(how='any',inplace=True)\n",
    "        \n",
    "        #create rolling overlapping window from 1 year to RHP \n",
    "        min_month = 12\n",
    "        max_month = rhp*12\n",
    "        df_ret_7b= df_rts[-max_month-1:-min_month].copy()\n",
    "        df_ret_7b['ret_raw']=0\n",
    "        df_ret_7b['ret_raw']= df_rts['close'].values[-1]/df_ret_7b['close']-1\n",
    "        df_ret_7b['end_price']=df_rts['close'].values[-1]\n",
    "        df_ret_7b['end_date'] = df_rts.index[-1]\n",
    "        df_ret_7b['start_date'] = df_ret_7b.index\n",
    "        df_ret_7b['period'] = np.arange(max_month,min_month-1,-1)\n",
    "        df_ret_7b['ret'] = np.power((df_ret_7b['ret_raw']+1),1/df_ret_7b['period'])\n",
    "        df_ret_7b['ret'] = np.power(df_ret_7b['ret'],rhp)-1\n",
    "        df_ret_7b=df_ret_7b.rename(columns={'close':'start_price'})\n",
    "        \n",
    "        #blending 7a and 7b together\n",
    "        ret_7a_7b = np.append(df_ret_7b['ret'].values,df_ret_7a['ret'].values)\n",
    "        \n",
    "        mod = np.median(df_ret_7a['ret'].values)\n",
    "        fav = np.max(df_ret_7a['ret'].values)\n",
    "        unfav = np.min(ret_7a_7b)\n",
    "        \n",
    "        rhp_result.append(rhp)\n",
    "        fav_result.append(fav)\n",
    "        mod_result.append(mod)\n",
    "        unfav_result.append(unfav)\n",
    "         \n",
    "        \n",
    "        #calculation of the stress (same formula as the old RTS)\n",
    "        end_date = pd.to_datetime(calcdate)\n",
    "        start_date = pd.to_datetime(calcdate)-pd.Timedelta(horizon*52,unit='W')\n",
    "        df_rts = df.loc[(df.index>=start_date)&(df.index<=end_date),:].copy()\n",
    "        df_ret = df_rts.pct_change().dropna(how='any')\n",
    "        M0 = len(df_ret)\n",
    "        M1 = np.mean(df_ret.values)\n",
    "        M2 = np.sum((df_ret.values-M1)**2)/M0\n",
    "        M3 = np.sum((df_ret.values-M1)**3)/M0\n",
    "        M4 =  np.sum((df_ret.values-M1)**4)/M0\n",
    "    \n",
    "        mu = M1\n",
    "        vol = np.sqrt(M2)\n",
    "        skew = M3/(vol**3)\n",
    "        kurt = M4/(vol**4)-3\n",
    "        \n",
    "        N = rhp*256 #assuming 256 business days in a year\n",
    "        stress_bucket =[63 if rhp>1 else 21][0]\n",
    "        z = [99 if rhp<=1 else 90][0]\n",
    "        za = [norm.ppf(0.01) if rhp<=1 else norm.ppf(0.05)][0]\n",
    "        var =vol *np.sqrt(N)*(-1.96+0.474*skew/np.sqrt(N)-0.0687*kurt/N+0.146*(skew**2)/N)-0.5*N*(vol**2)\n",
    "        stressed_vol = np.percentile(df_ret.rolling(window=stress_bucket).apply(lambda x : np.std(x)).dropna(how='any').values,z)\n",
    "        \n",
    "        stress = za + ((za**2-1)/6)*skew/np.sqrt(N)+ ((za**3-3*za)/24)*kurt/N-((2*za**3-5*za)/36)*(skew**2)/N\n",
    "        stress = np.exp(stressed_vol*np.sqrt(N)*stress-0.5*(stressed_vol**2)*N)\n",
    "        \n",
    "        stress_result.append(stress-1)\n",
    "        \n",
    "        \n",
    "    return {'rhp':rhp_result,\n",
    "            'mod':mod_result,\n",
    "            'fav':fav_result,\n",
    "            'stress':stress_result,\n",
    "            'unfav':unfav_result\n",
    "           }\n",
    "            \n",
    "            \n",
    "\n",
    "        \n",
    "    "
   ]
  },
  {
   "cell_type": "code",
   "execution_count": 88,
   "metadata": {},
   "outputs": [],
   "source": [
    "df = pd.read_excel('data.xlsx',sheet_name='SXXP',index_col='date')"
   ]
  },
  {
   "cell_type": "code",
   "execution_count": 89,
   "metadata": {},
   "outputs": [],
   "source": [
    "calcdate = '2020-01-31'\n",
    "calc1 = priip_rts1(df,rhp_range=np.arange(1,5,1),horizon=2,calcdate=calcdate)\n",
    "calc2 = priip_rts2(df,rhp_range=np.arange(1,5,1),calcdate=calcdate)"
   ]
  },
  {
   "cell_type": "code",
   "execution_count": 92,
   "metadata": {},
   "outputs": [
    {
     "data": {
      "text/html": [
       "<div>\n",
       "<style scoped>\n",
       "    .dataframe tbody tr th:only-of-type {\n",
       "        vertical-align: middle;\n",
       "    }\n",
       "\n",
       "    .dataframe tbody tr th {\n",
       "        vertical-align: top;\n",
       "    }\n",
       "\n",
       "    .dataframe thead th {\n",
       "        text-align: right;\n",
       "    }\n",
       "</style>\n",
       "<table border=\"1\" class=\"dataframe\">\n",
       "  <thead>\n",
       "    <tr style=\"text-align: right;\">\n",
       "      <th></th>\n",
       "      <th>rhp</th>\n",
       "      <th>mod</th>\n",
       "      <th>fav</th>\n",
       "      <th>stress</th>\n",
       "      <th>unfav</th>\n",
       "    </tr>\n",
       "  </thead>\n",
       "  <tbody>\n",
       "    <tr>\n",
       "      <th>0</th>\n",
       "      <td>1</td>\n",
       "      <td>0.074190</td>\n",
       "      <td>0.237726</td>\n",
       "      <td>-0.613183</td>\n",
       "      <td>-0.167747</td>\n",
       "    </tr>\n",
       "    <tr>\n",
       "      <th>1</th>\n",
       "      <td>2</td>\n",
       "      <td>0.051211</td>\n",
       "      <td>0.409461</td>\n",
       "      <td>-0.475229</td>\n",
       "      <td>-0.081818</td>\n",
       "    </tr>\n",
       "    <tr>\n",
       "      <th>2</th>\n",
       "      <td>3</td>\n",
       "      <td>0.135785</td>\n",
       "      <td>0.650982</td>\n",
       "      <td>-0.553660</td>\n",
       "      <td>-0.062963</td>\n",
       "    </tr>\n",
       "    <tr>\n",
       "      <th>3</th>\n",
       "      <td>4</td>\n",
       "      <td>0.259641</td>\n",
       "      <td>0.669418</td>\n",
       "      <td>-0.612502</td>\n",
       "      <td>-0.085515</td>\n",
       "    </tr>\n",
       "  </tbody>\n",
       "</table>\n",
       "</div>"
      ],
      "text/plain": [
       "   rhp       mod       fav    stress     unfav\n",
       "0    1  0.074190  0.237726 -0.613183 -0.167747\n",
       "1    2  0.051211  0.409461 -0.475229 -0.081818\n",
       "2    3  0.135785  0.650982 -0.553660 -0.062963\n",
       "3    4  0.259641  0.669418 -0.612502 -0.085515"
      ]
     },
     "execution_count": 92,
     "metadata": {},
     "output_type": "execute_result"
    }
   ],
   "source": [
    "pd.DataFrame(calc2)"
   ]
  },
  {
   "cell_type": "code",
   "execution_count": 91,
   "metadata": {},
   "outputs": [
    {
     "data": {
      "text/plain": [
       "{'rhp': [1, 2, 3, 4],\n",
       " 'mod': [0.02884376759405405,\n",
       "  0.05798522133775674,\n",
       "  0.08795209129434323,\n",
       "  0.11876775694002206],\n",
       " 'fav': [0.19975177625371687,\n",
       "  0.3153209503650374,\n",
       "  0.42068992873814604,\n",
       "  0.5227093691019675],\n",
       " 'stress': [-0.3726127024176218,\n",
       "  -0.3137648796173267,\n",
       "  -0.3732725195252181,\n",
       "  -0.42045723603168617],\n",
       " 'unfav': [-0.11917951260841675,\n",
       "  -0.15041387377350657,\n",
       "  -0.16823586921004474,\n",
       "  -0.17937865356980398]}"
      ]
     },
     "execution_count": 91,
     "metadata": {},
     "output_type": "execute_result"
    }
   ],
   "source": [
    "calc1"
   ]
  },
  {
   "cell_type": "code",
   "execution_count": 57,
   "metadata": {},
   "outputs": [
    {
     "name": "stdout",
     "output_type": "stream",
     "text": [
      "4\n",
      "4\n",
      "4\n"
     ]
    }
   ],
   "source": [
    "for x in calc1['rts1']:\n",
    "    print(x['RHP']['rhp'])"
   ]
  },
  {
   "cell_type": "code",
   "execution_count": 53,
   "metadata": {},
   "outputs": [
    {
     "data": {
      "text/plain": [
       "{'1Y': {'stress': -2.850285401087062,\n",
       "  'mod': -0.9471754609636006,\n",
       "  'fav': -0.6813740188705679,\n",
       "  'unfav': -1.2236036038178164,\n",
       "  'rhp': 4},\n",
       " 'RHP/2': {'stress': -2.1894881493695544,\n",
       "  'mod': -0.8975868234988161,\n",
       "  'fav': -0.518883856829758,\n",
       "  'unfav': -1.286916490929057,\n",
       "  'rhp': 4},\n",
       " 'RHP': {'stress': -2.785197087220349,\n",
       "  'mod': -0.7984095485692471,\n",
       "  'fav': -0.2602160658071917,\n",
       "  'unfav': -1.3472297320924846,\n",
       "  'rhp': 4}}"
      ]
     },
     "execution_count": 53,
     "metadata": {},
     "output_type": "execute_result"
    }
   ],
   "source": [
    "calc1['rts1'][0]"
   ]
  },
  {
   "cell_type": "code",
   "execution_count": null,
   "metadata": {},
   "outputs": [],
   "source": []
  }
 ],
 "metadata": {
  "kernelspec": {
   "display_name": "Python 3",
   "language": "python",
   "name": "python3"
  },
  "language_info": {
   "codemirror_mode": {
    "name": "ipython",
    "version": 3
   },
   "file_extension": ".py",
   "mimetype": "text/x-python",
   "name": "python",
   "nbconvert_exporter": "python",
   "pygments_lexer": "ipython3",
   "version": "3.8.0"
  },
  "toc": {
   "base_numbering": 1,
   "nav_menu": {},
   "number_sections": true,
   "sideBar": true,
   "skip_h1_title": false,
   "title_cell": "Table of Contents",
   "title_sidebar": "Contents",
   "toc_cell": false,
   "toc_position": {},
   "toc_section_display": true,
   "toc_window_display": false
  },
  "varInspector": {
   "cols": {
    "lenName": 16,
    "lenType": 16,
    "lenVar": 40
   },
   "kernels_config": {
    "python": {
     "delete_cmd_postfix": "",
     "delete_cmd_prefix": "del ",
     "library": "var_list.py",
     "varRefreshCmd": "print(var_dic_list())"
    },
    "r": {
     "delete_cmd_postfix": ") ",
     "delete_cmd_prefix": "rm(",
     "library": "var_list.r",
     "varRefreshCmd": "cat(var_dic_list()) "
    }
   },
   "types_to_exclude": [
    "module",
    "function",
    "builtin_function_or_method",
    "instance",
    "_Feature"
   ],
   "window_display": false
  }
 },
 "nbformat": 4,
 "nbformat_minor": 4
}
