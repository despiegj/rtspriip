{
 "cells": [
  {
   "cell_type": "code",
   "execution_count": 1,
   "metadata": {},
   "outputs": [],
   "source": [
    "import pandas as pd\n",
    "import numpy as np\n",
    "from scipy.stats import norm\n",
    "import plotly"
   ]
  },
  {
   "cell_type": "code",
   "execution_count": 16,
   "metadata": {},
   "outputs": [],
   "source": [
    "def priip_rts1(df,rhp_range=np.arange(1,5),horizon=5,calcdate='20210331'):\n",
    "    \"\"\"\n",
    "    df = DataFrame() with date and close\n",
    "    rhp_range = range of rhps\n",
    "    horizon = the sampling period in years\n",
    "    calcdate = the calculation date\n",
    "    \"\"\"\n",
    "    \n",
    "    end_date = pd.to_datetime(calcdate)\n",
    "    start_date = pd.to_datetime(calcdate)-pd.Timedelta(horizon*52,unit='W')\n",
    "    idx = (df.index>=start_date)&(df.index<=end_date)\n",
    "    df_rts = df.loc[idx,:].copy()\n",
    "    df_ret = df_rts.pct_change().dropna(how='any')\n",
    "    \n",
    "    M0 = len(df_ret)\n",
    "    M1 = np.mean(df_ret.values)\n",
    "    M2 = np.sum((df_ret.values-M1)**2)/M0\n",
    "    M3 = np.sum((df_ret.values-M1)**3)/M0\n",
    "    M4 =  np.sum((df_ret.values-M1)**4)/M0\n",
    "    \n",
    "    mu = M1\n",
    "    vol = np.sqrt(M2)\n",
    "    skew = M3/(vol**3)\n",
    "    kurt = M4/(vol**4)-3\n",
    "    priip={}\n",
    "    rhp_range = rhp_range[rhp_range>1]\n",
    "    calc_result = []\n",
    "    for rhp in rhp_range:\n",
    "        for rhp_num,rhp_str in  zip([1, rhp/2,rhp] ,['1Y','RHP/2','RHP']):\n",
    "            priip[rhp_str]={}\n",
    "            N = rhp_num*256 #assuming 256 business days in a year\n",
    "            stress_bucket =[63 if rhp_num>1 else 21][0]\n",
    "            z = [99 if rhp_num<=1 else 90][0]\n",
    "            za = [norm.ppf(0.01) if rhp_num<=1 else norm.ppf(0.05)][0]\n",
    "            var =vol *np.sqrt(N)*(-1.96+0.474*skew/np.sqrt(N)-0.0687*kurt/N+0.146*(skew**2)/N)-0.5*N*(vol**2)\n",
    "            VEV = (np.sqrt(3.842-2*var)-1.96)/np.sqrt(rhp_num)\n",
    "    \n",
    "            stressed_vol = np.percentile(df_ret.rolling(window=stress_bucket).apply(lambda x : np.std(x)).dropna(how='any').values,z)\n",
    "            unfav = np.exp(M1*N+vol*np.sqrt(N)*(-1.28+0.107*skew/np.sqrt(N)+0.0724*kurt/N-0.0611*(skew**2)/N)-0.5*(vol**2)*N)\n",
    "            fav = np.exp(M1*N+vol*np.sqrt(N)*(1.28+0.107*skew/np.sqrt(N)-0.0724*kurt/N+0.0611*(skew**2)/N)-0.5*(vol**2)*N)\n",
    "            mod = np.exp(M1*N-vol*skew/6-0.5*(vol**2)*N)\n",
    "            stress = za + ((za**2-1)/6)*skew/np.sqrt(N)+ ((za**3-3*za)/24)*kurt/N-((2*za**3-5*za)/36)*(skew**2)/N\n",
    "            stress = np.exp(stressed_vol*np.sqrt(N)*stress-0.5*(stressed_vol**2)*N)\n",
    "            \n",
    "            priip[rhp_str]['stress']=np.log(stress)-1\n",
    "            priip[rhp_str]['mod']=np.log(mod)-1\n",
    "            priip[rhp_str]['fav']=np.log(fav)-1\n",
    "            priip[rhp_str]['unfav']=np.log(unfav)-1\n",
    "            \n",
    "            calc_result.append(priip)\n",
    "            \n",
    "    \n",
    "    \n",
    "        df_future=df.loc[df.index>=end_date,:].copy()\n",
    "    \n",
    "    return {'df_selected':df_rts,\n",
    "            'df_future':df_future,\n",
    "            'rts1':calc_result,\n",
    "            'rhp':rhp_range\n",
    "           }\n",
    "    \n",
    "    "
   ]
  },
  {
   "cell_type": "code",
   "execution_count": 17,
   "metadata": {},
   "outputs": [],
   "source": [
    "df = pd.read_excel('data.xlsx',sheet_name='SXXP',index_col='date')\n"
   ]
  },
  {
   "cell_type": "code",
   "execution_count": 93,
   "metadata": {},
   "outputs": [],
   "source": [
    "def priip_rts2(df,rhp_range=np.arange(1,5),calcdate='20210331'):\n",
    "    \n",
    "   \n",
    "    calc_result = []\n",
    "    \n",
    "    for rhp in rhp_range:\n",
    "        horizon = np.max([10,rhp+5])\n",
    "       \n",
    "        start_date = pd.to_datetime(calcdate)-pd.Timedelta(int(horizon*52),unit='W')\n",
    "        df_rts = df.loc[(df.index>=start_date)&(df.index<=calcdate),:].copy()\n",
    "        sample_weeks=(df_rts.index[-1]-df_rts.index[0]).days/7\n",
    "        if sample_weeks <int(horizon*52):\n",
    "            pass\n",
    "        \n",
    "        # create Monthly observations\n",
    "        dx = pd.DataFrame({'x':1},index=pd.bdate_range(start_date,calcdate,freq='BM'),)\n",
    "        df_rts = pd.concat([dx,df_rts],axis=1)\n",
    "        df_rts.dropna(how='any',inplace=True)\n",
    "        df_rts = pd.concat([dx,df_rts['close']],axis=1)\n",
    "        df_rts['close'].fillna(method='ffill',inplace=True)\n",
    "        df_rts.drop('x',axis='columns',inplace=True)\n",
    "        \n",
    "        #create rolling overlapping window equal to RHP returns\n",
    "        periods = rhp*12\n",
    "        df_ret_7a = df_rts.copy()\n",
    "        df_ret_7a['end_date']=df_ret_7a.index\n",
    "        df_ret_7a['start_date']=df_ret_7a['end_date'].shift(periods=periods)\n",
    "        df_ret_7a['ret']= df_ret_7a['close'].rolling(window=periods,min_periods=periods).apply(lambda x : x[-1]/x[0]-1)\n",
    "        df_ret_7a['start_price']= df_ret_7a['close'].rolling(window=periods,min_periods=periods).apply(lambda x :x[0])\n",
    "        df_ret_7a=df_ret_7a.rename(columns={'close':'end_price'})\n",
    "        df_ret_7a.dropna(how='any',inplace=True)\n",
    "        \n",
    "        #create rolling overlapping window from 1 year to RHP \n",
    "        min_month = 12\n",
    "        max_month = rhp*12\n",
    "        df_ret_7b= df_rts[-max_month-1:-min_month].copy()\n",
    "        df_ret_7b['ret_raw']=0\n",
    "        df_ret_7b['ret_raw']= df_rts['close'].values[-1]/df_ret_7b['close']-1\n",
    "        df_ret_7b['end_price']=df_rts['close'].values[-1]\n",
    "        df_ret_7b['end_date'] = df_rts.index[-1]\n",
    "        df_ret_7b['start_date'] = df_ret_7b.index\n",
    "        df_ret_7b['period'] = np.arange(max_month,min_month-1,-1)\n",
    "        df_ret_7b['ret'] = np.power((df_ret_7b['ret_raw']+1),1/df_ret_7b['period'])\n",
    "        df_ret_7b['ret'] = np.power(df_ret_7b['ret'],rhp)-1\n",
    "        df_ret_7b=df_ret_7b.rename(columns={'close':'start_price'})\n",
    "        \n",
    "        #blending 7a and 7b together\n",
    "        ret_7a_7b = np.append(df_ret_7b['ret'].values,df_ret_7a['ret'].values)\n",
    "        \n",
    "        mod = np.median(df_ret_7a['ret'].values)\n",
    "        fav = np.max(df_ret_7a['ret'].values)\n",
    "        unfav = np.min(ret_7a_7b)\n",
    "        \n",
    "        priip={}\n",
    "        priip[rhp]={}\n",
    "        priip[rhp]['mod']=mod\n",
    "        priip[rhp]['fav']=fav\n",
    "        priip[rhp]['unfav']=unfav\n",
    "        \n",
    "        #calculation of the stress (same formula as the old RTS)\n",
    "        end_date = pd.to_datetime(calcdate)\n",
    "        start_date = pd.to_datetime(calcdate)-pd.Timedelta(horizon*52,unit='W')\n",
    "        df_rts = df.loc[(df.index>=start_date)&(df.index<=end_date),:].copy()\n",
    "        df_ret = df_rts.pct_change().dropna(how='any')\n",
    "        M0 = len(df_ret)\n",
    "        M1 = np.mean(df_ret.values)\n",
    "        M2 = np.sum((df_ret.values-M1)**2)/M0\n",
    "        M3 = np.sum((df_ret.values-M1)**3)/M0\n",
    "        M4 =  np.sum((df_ret.values-M1)**4)/M0\n",
    "    \n",
    "        mu = M1\n",
    "        vol = np.sqrt(M2)\n",
    "        skew = M3/(vol**3)\n",
    "        kurt = M4/(vol**4)-3\n",
    "        \n",
    "        N = rhp*256 #assuming 256 business days in a year\n",
    "        stress_bucket =[63 if rhp>1 else 21][0]\n",
    "        z = [99 if rhp<=1 else 90][0]\n",
    "        za = [norm.ppf(0.01) if rhp<=1 else norm.ppf(0.05)][0]\n",
    "        var =vol *np.sqrt(N)*(-1.96+0.474*skew/np.sqrt(N)-0.0687*kurt/N+0.146*(skew**2)/N)-0.5*N*(vol**2)\n",
    "        stressed_vol = np.percentile(df_ret.rolling(window=stress_bucket).apply(lambda x : np.std(x)).dropna(how='any').values,z)\n",
    "        \n",
    "        stress = za + ((za**2-1)/6)*skew/np.sqrt(N)+ ((za**3-3*za)/24)*kurt/N-((2*za**3-5*za)/36)*(skew**2)/N\n",
    "        stress = np.exp(stressed_vol*np.sqrt(N)*stress-0.5*(stressed_vol**2)*N)\n",
    "        \n",
    "        priip[rhp]['stress']=np.log(stress)-1\n",
    "        calc_result.append(priip)\n",
    "        \n",
    "        \n",
    "    return calc_result\n",
    "            \n",
    "            \n",
    "\n",
    "        \n",
    "    "
   ]
  },
  {
   "cell_type": "code",
   "execution_count": 94,
   "metadata": {},
   "outputs": [],
   "source": [
    "calc1 = priip_rts1(df,rhp_range=np.arange(1,5,1),horizon=2,calcdate='2021-3-31')\n",
    "calc2 = priip_rts2(df,rhp_range=np.arange(1,5,1),calcdate='2021-3-31')"
   ]
  },
  {
   "cell_type": "code",
   "execution_count": 91,
   "metadata": {},
   "outputs": [],
   "source": [
    "rhp=50\n",
    "calc_date='2021-03-31'\n",
    "# set the required minimum horizon\n",
    "horizon = np.max([10,rhp+5])"
   ]
  },
  {
   "cell_type": "code",
   "execution_count": 95,
   "metadata": {},
   "outputs": [
    {
     "data": {
      "text/plain": [
       "[{1: {'mod': 0.06901831586271123,\n",
       "   'fav': 0.26535649565706443,\n",
       "   'unfav': -0.1821643030535327,\n",
       "   'stress': -2.2024394238764153}},\n",
       " {2: {'mod': 0.06507545295391715,\n",
       "   'fav': 0.4094606432236265,\n",
       "   'unfav': -0.16936572199730093,\n",
       "   'stress': -1.65957421932919}},\n",
       " {3: {'mod': 0.11969156858455576,\n",
       "   'fav': 0.6509823551495435,\n",
       "   'unfav': -0.17316386370094805,\n",
       "   'stress': -1.8248640548424022}},\n",
       " {4: {'mod': 0.157494626429593,\n",
       "   'fav': 0.6694183548835446,\n",
       "   'unfav': -0.08551541266158424,\n",
       "   'stress': -1.9692772019798805}}]"
      ]
     },
     "execution_count": 95,
     "metadata": {},
     "output_type": "execute_result"
    }
   ],
   "source": [
    "calc2"
   ]
  },
  {
   "cell_type": "code",
   "execution_count": 73,
   "metadata": {},
   "outputs": [
    {
     "name": "stdout",
     "output_type": "stream",
     "text": [
      "cannot calculate\n"
     ]
    }
   ],
   "source": [
    "# create the sampling period\n",
    "start_date = pd.to_datetime(calcdate)-pd.Timedelta(int(horizon*52),unit='W')\n",
    "idx = (df.index>=start_date)&(df.index<=calcdate)\n",
    "df_rts = df.loc[idx,:].copy()\n",
    "sample_weeks=(df.index[-1]-df.index[0]).days/7\n",
    "if sample_weeks <int(horizon*52):\n",
    "    print('cannot calculate')\n"
   ]
  },
  {
   "cell_type": "code",
   "execution_count": 35,
   "metadata": {},
   "outputs": [],
   "source": [
    "# create Monthly observations\n",
    "dx = pd.DataFrame({'x':1},index=pd.bdate_range(start_date,calcdate,freq='BM'),)\n",
    "df_rts = pd.concat([dx,df_rts],axis=1)\n",
    "df_rts.dropna(how='any',inplace=True)\n",
    "df_rts = pd.concat([dx,df_rts['close']],axis=1)\n",
    "df_rts['close'].fillna(method='ffill',inplace=True)\n",
    "df_rts.drop('x',axis='columns',inplace=True)"
   ]
  },
  {
   "cell_type": "code",
   "execution_count": 36,
   "metadata": {},
   "outputs": [
    {
     "data": {
      "text/html": [
       "<div>\n",
       "<style scoped>\n",
       "    .dataframe tbody tr th:only-of-type {\n",
       "        vertical-align: middle;\n",
       "    }\n",
       "\n",
       "    .dataframe tbody tr th {\n",
       "        vertical-align: top;\n",
       "    }\n",
       "\n",
       "    .dataframe thead th {\n",
       "        text-align: right;\n",
       "    }\n",
       "</style>\n",
       "<table border=\"1\" class=\"dataframe\">\n",
       "  <thead>\n",
       "    <tr style=\"text-align: right;\">\n",
       "      <th></th>\n",
       "      <th>end_price</th>\n",
       "      <th>end_date</th>\n",
       "      <th>start_date</th>\n",
       "      <th>ret</th>\n",
       "      <th>start_price</th>\n",
       "    </tr>\n",
       "  </thead>\n",
       "  <tbody>\n",
       "    <tr>\n",
       "      <th>2020-11-30</th>\n",
       "      <td>389.36</td>\n",
       "      <td>2020-11-30</td>\n",
       "      <td>2015-11-30</td>\n",
       "      <td>0.064378</td>\n",
       "      <td>365.81</td>\n",
       "    </tr>\n",
       "    <tr>\n",
       "      <th>2020-12-31</th>\n",
       "      <td>399.03</td>\n",
       "      <td>2020-12-31</td>\n",
       "      <td>2015-12-31</td>\n",
       "      <td>0.165834</td>\n",
       "      <td>342.27</td>\n",
       "    </tr>\n",
       "    <tr>\n",
       "      <th>2021-01-29</th>\n",
       "      <td>395.85</td>\n",
       "      <td>2021-01-29</td>\n",
       "      <td>2016-01-29</td>\n",
       "      <td>0.185464</td>\n",
       "      <td>333.92</td>\n",
       "    </tr>\n",
       "    <tr>\n",
       "      <th>2021-02-26</th>\n",
       "      <td>404.99</td>\n",
       "      <td>2021-02-26</td>\n",
       "      <td>2016-02-29</td>\n",
       "      <td>0.199828</td>\n",
       "      <td>337.54</td>\n",
       "    </tr>\n",
       "    <tr>\n",
       "      <th>2021-03-31</th>\n",
       "      <td>429.60</td>\n",
       "      <td>2021-03-31</td>\n",
       "      <td>2016-03-31</td>\n",
       "      <td>0.258053</td>\n",
       "      <td>341.48</td>\n",
       "    </tr>\n",
       "  </tbody>\n",
       "</table>\n",
       "</div>"
      ],
      "text/plain": [
       "            end_price   end_date start_date       ret  start_price\n",
       "2020-11-30     389.36 2020-11-30 2015-11-30  0.064378       365.81\n",
       "2020-12-31     399.03 2020-12-31 2015-12-31  0.165834       342.27\n",
       "2021-01-29     395.85 2021-01-29 2016-01-29  0.185464       333.92\n",
       "2021-02-26     404.99 2021-02-26 2016-02-29  0.199828       337.54\n",
       "2021-03-31     429.60 2021-03-31 2016-03-31  0.258053       341.48"
      ]
     },
     "execution_count": 36,
     "metadata": {},
     "output_type": "execute_result"
    }
   ],
   "source": [
    "#create rolling overlapping window equal to RHP returns\n",
    "periods = rhp*12\n",
    "df_ret_7a = df_rts.copy()\n",
    "df_ret_7a['end_date']=df_ret_7a.index\n",
    "df_ret_7a['start_date']=df_ret_7a['end_date'].shift(periods=periods)\n",
    "df_ret_7a['ret']= df_ret_7a['close'].rolling(window=periods,min_periods=periods).apply(lambda x : x[-1]/x[0]-1)\n",
    "df_ret_7a['start_price']= df_ret_7a['close'].rolling(window=periods,min_periods=periods).apply(lambda x :x[0])\n",
    "df_ret_7a=df_ret_7a.rename(columns={'close':'end_price'})\n",
    "df_ret_7a.dropna(how='any',inplace=True)\n",
    "\n",
    "df_ret_7a.tail()"
   ]
  },
  {
   "cell_type": "code",
   "execution_count": 37,
   "metadata": {},
   "outputs": [],
   "source": [
    "#create rolling overlapping windows from 1 year to rhp\n",
    "min_month = 12\n",
    "max_month = rhp*12\n",
    "df_ret_7b= df_rts[-max_month-1:-min_month].copy()\n",
    "df_ret_7b['ret_raw']=0\n",
    "df_ret_7b['ret_raw']= df_rts['close'].values[-1]/df_ret_7b['close']-1\n",
    "df_ret_7b['end_price']=df_rts['close'].values[-1]\n",
    "df_ret_7b['end_date'] = df_rts.index[-1]\n",
    "df_ret_7b['start_date'] = df_ret_7b.index\n",
    "df_ret_7b['period'] = np.arange(max_month,min_month-1,-1)\n",
    "df_ret_7b['ret'] = np.power((df_ret_7b['ret_raw']+1),1/df_ret_7b['period'])\n",
    "df_ret_7b['ret'] = np.power(df_ret_7b['ret'],rhp)-1\n",
    "\n",
    "df_ret_7b=df_ret_7b.rename(columns={'close':'start_price'})"
   ]
  },
  {
   "cell_type": "code",
   "execution_count": 38,
   "metadata": {},
   "outputs": [],
   "source": [
    "# blend the returns together\n",
    "ret_7a_7b = np.append(df_ret_7b['ret'].values,df_ret_7a['ret'].values)"
   ]
  },
  {
   "cell_type": "code",
   "execution_count": 39,
   "metadata": {},
   "outputs": [],
   "source": [
    "mod = np.median(df_ret_7a['ret'].values)\n",
    "fav = np.max(df_ret_7a['ret'].values)\n",
    "unfav = np.min(ret_7a_7b)"
   ]
  },
  {
   "cell_type": "code",
   "execution_count": 40,
   "metadata": {},
   "outputs": [
    {
     "data": {
      "text/plain": [
       "-0.19133884130473233"
      ]
     },
     "execution_count": 40,
     "metadata": {},
     "output_type": "execute_result"
    }
   ],
   "source": [
    "unfav"
   ]
  },
  {
   "cell_type": "code",
   "execution_count": null,
   "metadata": {},
   "outputs": [],
   "source": []
  },
  {
   "cell_type": "code",
   "execution_count": null,
   "metadata": {},
   "outputs": [],
   "source": []
  },
  {
   "cell_type": "code",
   "execution_count": null,
   "metadata": {},
   "outputs": [],
   "source": []
  }
 ],
 "metadata": {
  "kernelspec": {
   "display_name": "Python 3",
   "language": "python",
   "name": "python3"
  },
  "language_info": {
   "codemirror_mode": {
    "name": "ipython",
    "version": 3
   },
   "file_extension": ".py",
   "mimetype": "text/x-python",
   "name": "python",
   "nbconvert_exporter": "python",
   "pygments_lexer": "ipython3",
   "version": "3.8.0"
  },
  "toc": {
   "base_numbering": 1,
   "nav_menu": {},
   "number_sections": true,
   "sideBar": true,
   "skip_h1_title": false,
   "title_cell": "Table of Contents",
   "title_sidebar": "Contents",
   "toc_cell": false,
   "toc_position": {},
   "toc_section_display": true,
   "toc_window_display": false
  },
  "varInspector": {
   "cols": {
    "lenName": 16,
    "lenType": 16,
    "lenVar": 40
   },
   "kernels_config": {
    "python": {
     "delete_cmd_postfix": "",
     "delete_cmd_prefix": "del ",
     "library": "var_list.py",
     "varRefreshCmd": "print(var_dic_list())"
    },
    "r": {
     "delete_cmd_postfix": ") ",
     "delete_cmd_prefix": "rm(",
     "library": "var_list.r",
     "varRefreshCmd": "cat(var_dic_list()) "
    }
   },
   "types_to_exclude": [
    "module",
    "function",
    "builtin_function_or_method",
    "instance",
    "_Feature"
   ],
   "window_display": false
  }
 },
 "nbformat": 4,
 "nbformat_minor": 4
}
